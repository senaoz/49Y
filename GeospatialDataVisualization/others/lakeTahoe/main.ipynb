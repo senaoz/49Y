{
 "cells": [
  {
   "cell_type": "code",
   "execution_count": 9,
   "id": "initial_id",
   "metadata": {
    "collapsed": true,
    "ExecuteTime": {
     "end_time": "2023-10-29T07:09:26.858498Z",
     "start_time": "2023-10-29T07:09:26.808048Z"
    }
   },
   "outputs": [
    {
     "data": {
      "text/plain": "array(['Tahoe City Transit Center - Depart', 'Hwy 89 at McClintock Bldg',\n       'Hwy 89 at Granlibakken', 'Hwy 89 at Cathedral Dr',\n       'Hwy 89 at Sequoia Ave', 'Hwy 89 at Pine Ave',\n       'Hwy 89 at Fountain Ave', 'Hwy 89 at Pineland Dr',\n       'Hwy 89 at Ward Ave', 'Hwy 89 at Timberland Ln',\n       'Hwy 89 at Elizabeth Dr', 'Hwy 89 at Grand Ave',\n       'Hwy 89 at South St (Homewood Sign)',\n       'Hwy 89 at Homewood Ski Area', 'Hwy 89 at West Shore Sports',\n       'Hwy 89 Tahoe Ski Bowl Way', 'Hwy 89 at Ellis Rd',\n       'Hwy 89 at Lodge Dr', 'Hwy 89 at McKinney Rubicon Springs Rd',\n       'Hwy 89 at Elm St', 'Hwy 89 Across from Tahoma Market and Deli',\n       'Hwy 89 at Pine St (Tahoma Post Office)',\n       'Sugar Pine Point State Park', 'Hwy 89 at Pine St (Northbound)',\n       'Hwy 89 at PDQ Market', 'Hwy 89 Powderhorn Ln Lakeside',\n       'Hwy 89 at Moana Cir', 'Hwy 89 at Chambers Landing',\n       \"Hwy 89 at Homewood Obexer's Market\", 'Hwy 89 at West Shore Cafe',\n       'Hwy 89 at Homewood Sign', 'Hwy 89 Across from Grimsell Pass',\n       'Hwy 89 at Skyland Beach', 'Ritz Carlton Highlands Court',\n       'Hwy 89 at at Mankato Lakeside', 'Hwy 89 Timberland Dr Lakeside',\n       'Hwy 89 at Sunnyside Ln', 'Hwy 89 at Sunnyside Market',\n       'Tahoe Park Ln (Lakeside)', 'Sequoia Ave (North on Lakeside)',\n       'Hwy 89 at Olympic Dr',\n       'Hwy 89 at Granlibakken Tahoe Tavern Entrance', 'Hwy 89 at Chase',\n       'Granlibakken Resort', 'Hwy 89 at Mankato Pl',\n       'Tahoe City Transit Center - Arrive',\n       'Hwy 28 at Crystal Bay Club (Shelter) - Arrive',\n       'Lakeshore Dr at Country Club Dr (Hyatt) - Arrive',\n       'Hwy 28 at Stateline Rd (Shelter) - Arrive',\n       'Hwy 28 at Mackinaw (Bus Shelter)', 'Hwy 28 at Tahoe City Marina',\n       'Hwy 28  at Lighthouse Center (Shelter)',\n       'Hwy 28 Across from Rocky Ridge Rd', 'Hwy 28 at Star Harbor Ct',\n       'Hwy 28 at Lake Forest Rd (West End)',\n       'Hwy 28 at Lake Forest Rd (East End)',\n       'Hwy 28 at Dollar Hill 7-11 Store (Shelter)',\n       'Hwy 28 at Chinquapin Condos', 'Hwy 28 Lardin Way Lakeside',\n       'Hwy 28 Ridgewood Lakeside',\n       'Hwy 28 at Gar Woods East Parking Lot', 'Hwy 28 at Sierra Boat Co',\n       'Hwy 28 Across from Placer Welfare',\n       'Hwy 28 at Agate Sun Club Pier', 'Hwy 28 at Stag Dr - Lakeside',\n       'Hwy 28 at The Sands', 'Hwy 28 at Anderson St Lakeside',\n       'Hwy 28 at National Ave Lakeside (Shelter)',\n       'Hwy 28 at Pino Grande Ave (Lakeside)', 'Truckee Depot - Arrive',\n       'Hwy 28 Across from KB Safeway Store', 'Hwy 28 at Secline St',\n       'Hwy 28 at Deer St KB State Beach',\n       'Hwy 28 at Raccoon St (Lakeside)', 'Hwy 28 at Fox St (Lakeside)',\n       'Hwy 28 at Chipmunk St Lakeside', 'Hwy 28 at Chipmunk St',\n       'Hwy 28 at Fox St', 'Hwy 28 at Raccoon St The Grid',\n       'Hwy 28 after Bear St (Chevron Station)', 'Hwy 28 at Deer St WB',\n       'Hwy 28 at KB Safeway Store',\n       'Hwy 28 at Pino Grande Ave (Shelter)',\n       'Hwy 28 at National Ave (Shelter)', 'Hwy 28 at Anderson Rd',\n       'Hwy 28 at Estates Dr', 'Hwy 28 at Stag Dr', 'Hwy 28 at Agate Rd',\n       'Hwy 28 at Sahara Dr', 'Hwy 28 at Old P.O. Coffee Shop',\n       'Hwy 28 at Carnelian Woods (Shelter)', 'Sunnyside Resort',\n       'Americas Best Value Inn Tahoe City', 'Hwy 28 at Center St',\n       'Mother Natures Inn', 'Pepper Tree Inn', 'Tamarack Lodge',\n       'River Ranch Restaurant & Lodge Tahoe City', 'Squaw Valley Lodge',\n       'Plump Jack-Squaw Valley Inn', 'Olympic Villiage Inn',\n       'Christy Inn - CALL FOR PICKUP', 'Red Wolf Lodge at Squaw Valley',\n       'Hwy 28 at Ridgewood Rd', 'Tavern Inn', 'Resort at Squaw Creek',\n       'Reno Tahoe International Airport',\n       'Tonopalo Private Residence Club', 'Edgelake Beach Club',\n       'Holiday House', 'Cedar Glen Lodge', 'Red Wolf Lakeside Lodge',\n       'Hwy 28 at Lardin Way', 'Firelite Lodge', 'Rustic Cottages',\n       'Franciscan Lakeside Lodge', 'Shorehouse',\n       'Tahoe Vista Inn & Marina', 'Ferraris Crown Motel Kings Beach',\n       'Tahoe Mountain Resort', 'Hwy 28 at Old County Rd',\n       'Tahoe Biltmore Lodge & Casino',\n       'Incline Village Recreation Center', 'Hwy 28 at Dollar Dr',\n       'Hwy 28 at Dollar Hill II', 'Northstar Village Gate # 7',\n       'Sawmill Heights (Employee Housing)', 'Hwy 28 at Sandy Beach',\n       'Hwy 28 at KB State Beach',\n       'Lakeshore Dr at Country Club Dr (Hyatt) - Depart',\n       'Truckee Tahoe Airport', 'Cedar House Sports Hotel',\n       'Tahoe City Inn', 'Hwy 28 at Old Mill Rd',\n       'Hwy 28 at Burton Creek', 'Hwy 28 at Tamarack Lodge',\n       'Hwy 28 at Rocky Ridge Rd', 'Hwy 28 at Basecamp',\n       'Hwy 28 at Grove St (Fat Cat Bar and Grill)',\n       'Hwy 28 at Tahoe City WYE', 'Hwy 28 Kings Beach at Crown Motel',\n       'Soda Springs Ski Resort',\n       'Donner Pass Rd Soda Springs General Store',\n       'Donner Pass Rd at Soda Springs Rd',\n       'Donner Pass Rd at Tri Lodges', 'Donner Pass Rd at Ski Inn',\n       'Donner Pass Rd Sugar Bowl Rd', 'Sugar Bowl Mt. Judah Day Lodge',\n       'Boreal Ridge Ski Resort - Arrive', 'Donner Pass Rd Ski Inn',\n       'Donner Pass Rd Tri Lodges',\n       'Donner Pass Rd at Soda Springs General Store',\n       'Donner Pass Rd at Donner Summit Lodge',\n       'HWY 28 Crystal Bay Club (Shelter) - Depart',\n       'Sugar Bowl Gondola - Depart', 'Hwy 28 at Gonowabie Rd',\n       'Donner Pass Rd at Gateway Center (Safeway)',\n       'Sugar Bowl Gondola - Arrive', 'Hwy 28 at Crystal Bay Cove Condos',\n       'Hwy 28 at Lakeshore Dr Lakeside',\n       'Hwy 28 at Ponderosa (Guardrail) Lakeside',\n       'Deerfield Dr at Crossroads Center (Post Office)',\n       'Edwin Rd at Henness Rd (Bus Shelter)',\n       'Tunnel Creek Bonanza (Arrive)', 'Hwy 28 Winding Way Lakeside',\n       'Hwy 28 at Toepa', 'Hwy 28 at Village Blvd', 'Hwy 28 at US Bank',\n       'Southwood Skate Park at Hwy 28', 'Southwood at Bowl Incline',\n       'Village Blvd at Juanita Rd', 'Lakeshore Dr at Incline Beach',\n       'Tunnel Creek Bonanza (Depart)', 'Country Club Dr at Incline Way',\n       'Country Club Dr at Mill Creek',\n       'Hwy 28 at Country Club By Fairway',\n       'Hwy 28 at Northwood Blvd Mountain Side',\n       \"Hwy 28 at Raley's Shopping Center\",\n       'Hwy 28 at Christmas Tree Village',\n       'Hwy 28 at Northwoods 76 Gas Station', 'Hwy 28 at WInding Way',\n       'Hwy 28 at Ponderosa Ave Mountain Side', 'Hwy 28 at Pinion Dr',\n       'Hwy 28 at Red Cedar Ln', 'Hwy 28 at Amagosa Rd',\n       'Hwy 28 at Stateline Rd (Shelter) - Depart',\n       'Alpine Transport Center',\n       'Hwy 89 at Alpine Meadows Rd (River Ranch)',\n       'Olympic Valley Rd at 7-11 Driveway (Shelter)',\n       'Olympic Valley Rd and Squaw Creek Rd',\n       'Olympic Valley Rd at Post Office', 'Olympic Valley Clock Tower',\n       'Village at Palisades Tahoe - East',\n       'Olympic Valley Rd at Squaw Creek Rd (Shelter) EB',\n       'Olympic Valley Rd at New Park (Near Entrance)',\n       'Hwy 89 West River Mousehole', 'Hwy 89 at College Trail',\n       'Hwy 89 at Bank of America (old CHP office)',\n       'Highway 89 South Between DMV and Freeway',\n       'Hwy 89 at Deerfield Dr (Crossroad Driveway)',\n       'Hwy 89 Across from West River St (Trailer Park)',\n       'Olympic Valley Rd at Village East Rd', 'Parkside Inn',\n       'The Villiage at Squaw Valley',\n       'Northstar Resort - 100 Northstar Drive',\n       'Hwy 267 and Speckled St', 'Hwy 267 and Cambridge Dr',\n       'Hwy 267 and Stewart Way', 'Sawmill Heights',\n       'Northstar Village Gate # 8', 'Airport Rd and Truckee Town Hall',\n       'Airport', 'Hampton Inn and Suites', 'Hwy 267 and Lincoln Green',\n       \"Raley's Southbound\", 'Raleys Northbound', 'Meadow View Place',\n       \"Shaffer's Mill and Heartwood Dr\",\n       'Schaffer Mill Rd and Hopkins Village Dr',\n       'Truckee Depot - Depart',\n       'Donner Pass Rd at Donner Lake Village Resort',\n       'Donner Pass Rd at West End Boat Launch',\n       'Donner Pass Rd at Moraine Rd (Sticks Market)',\n       'Donner Pass Rd at Summit Dr',\n       'Donner Pass Rd at Donner Memorial State Park',\n       'Donner Pass Rd Cold Stream Rd',\n       'Donner Pass Rd at Tri-Counties Bank Plaza',\n       'Donner Pass Rd at Truckee High School EB',\n       'Donner Pass Rd at Donner Trail Rd',\n       'Donner Pass Rd at Westgate Center (Wild Cherries)',\n       'Donner Pass Rd at Grocery Outlet/Vista Ave',\n       'Donner Pass Rd at Tahoe Forest Cancer Center',\n       'Donner Pass Rd at Recreation Center',\n       'Brockway Rd at The Rock (Fifty-Fifty)', 'Reynold Way',\n       'Estates Dr at Senior Apartments',\n       'Brockway Rd at Regional Park (Bus Shelter)',\n       'Donner Pass Rd at Tahoe Forest Medical Offices',\n       'Donner Pass Rd at Gateway Center (Safeway Bus Shelter)',\n       'Donner Pass Rd at ACE Mountain Hardware',\n       'Donner Pass Rd at Meadow Way (7-11)',\n       'Donner Pass Rd at Northwoods Blvd',\n       'Donner Pass Rd at Highway Rd',\n       'Donner Pass Rd at East End Donner Lake',\n       'Donner Pass Rd at South Shore Dr (Bus Shelter)',\n       'Brockway Rd and Palisades Dr',\n       'Brockway at Cedar House Sport Hotel', 'Across from Best Western',\n       'Truckee Way at Rue Ivy', 'Truckee Way at Coburn Crossing Apts',\n       'Roundhouse Way at Artist Loft Apts',\n       'Brockway Rd at Village Green MHP',\n       'Truckee Way and Stockrest Springs Rd (Coburn Crossing Apts)'],\n      dtype=object)"
     },
     "execution_count": 9,
     "metadata": {},
     "output_type": "execute_result"
    }
   ],
   "source": [
    "import pandas as pd\n",
    "\n",
    "stops = pd.read_csv(\"./laketahoe-ca-us/stops.txt\", sep=\",\", header=0)\n",
    "\n",
    "stops.stop_name.unique()"
   ]
  },
  {
   "cell_type": "code",
   "execution_count": 10,
   "outputs": [
    {
     "data": {
      "text/plain": "   agency_id route_id route_short_name  \\\n0         16     2596             Blue   \n1         16     2594              Red   \n2         16     2595            Green   \n3        904   Hwy267           Hwy267   \n4        904    Hwy89            Hwy89   \n5        904       ML               ML   \n6        904      TLR              TLR   \n\n                                     route_long_name  \\\n0  Carnelian Bay Tahoe Vista, Kings Beach, Crysta...   \n1               Squaw Valley, Tahoe City, West Shore   \n2                                 Truckee, Northstar   \n3                                  Highway 267 AM/PM   \n4                                   Highway 89 AM/PM   \n5                                     Mainline AM/PM   \n6                                      Truckee Local   \n\n                              route_desc  route_type  \\\n0  North Lake Tahoe Express - Blue Route           3   \n1                                    NaN           3   \n2                                    NaN           3   \n3                                    NaN           3   \n4                                    NaN           3   \n5                                    NaN           3   \n6                                    NaN           3   \n\n                                           route_url route_color  \\\n0       http://www.northlaketahoeexpress.com/routes/      139deb   \n1       http://www.northlaketahoeexpress.com/routes/      c40d20   \n2       http://www.northlaketahoeexpress.com/routes/      35a239   \n3  https://tahoetruckeetransit.com/routes/route-h...      f50505   \n4  https://tahoetruckeetransit.com/routes/route-h...      e0b909   \n5   https://tahoetruckeetransit.com/routes/route-ml/      11a3ba   \n6  https://tahoetruckeetransit.com/routes/route-tlr/      83f05b   \n\n  route_text_color  route_sort_order  min_headway_minutes  \\\n0           000000                15                  NaN   \n1           ffffff                16                  NaN   \n2           000000                17                  NaN   \n3           000000                 3                  NaN   \n4           000000                 5                  NaN   \n5           000000                 6                  NaN   \n6           000000                 7                  NaN   \n\n   eligibility_restricted  continuous_pickup  continuous_drop_off  \\\n0                       0                  1                    1   \n1                       0                  1                    1   \n2                       0                  1                    1   \n3                       0                  1                    1   \n4                       0                  1                    1   \n5                       0                  1                    1   \n6                       0                  1                    1   \n\n   tts_route_short_name  tts_route_long_name  \n0                   NaN                  NaN  \n1                   NaN                  NaN  \n2                   NaN                  NaN  \n3                   NaN                  NaN  \n4                   NaN                  NaN  \n5                   NaN                  NaN  \n6                   NaN                  NaN  ",
      "text/html": "<div>\n<style scoped>\n    .dataframe tbody tr th:only-of-type {\n        vertical-align: middle;\n    }\n\n    .dataframe tbody tr th {\n        vertical-align: top;\n    }\n\n    .dataframe thead th {\n        text-align: right;\n    }\n</style>\n<table border=\"1\" class=\"dataframe\">\n  <thead>\n    <tr style=\"text-align: right;\">\n      <th></th>\n      <th>agency_id</th>\n      <th>route_id</th>\n      <th>route_short_name</th>\n      <th>route_long_name</th>\n      <th>route_desc</th>\n      <th>route_type</th>\n      <th>route_url</th>\n      <th>route_color</th>\n      <th>route_text_color</th>\n      <th>route_sort_order</th>\n      <th>min_headway_minutes</th>\n      <th>eligibility_restricted</th>\n      <th>continuous_pickup</th>\n      <th>continuous_drop_off</th>\n      <th>tts_route_short_name</th>\n      <th>tts_route_long_name</th>\n    </tr>\n  </thead>\n  <tbody>\n    <tr>\n      <th>0</th>\n      <td>16</td>\n      <td>2596</td>\n      <td>Blue</td>\n      <td>Carnelian Bay Tahoe Vista, Kings Beach, Crysta...</td>\n      <td>North Lake Tahoe Express - Blue Route</td>\n      <td>3</td>\n      <td>http://www.northlaketahoeexpress.com/routes/</td>\n      <td>139deb</td>\n      <td>000000</td>\n      <td>15</td>\n      <td>NaN</td>\n      <td>0</td>\n      <td>1</td>\n      <td>1</td>\n      <td>NaN</td>\n      <td>NaN</td>\n    </tr>\n    <tr>\n      <th>1</th>\n      <td>16</td>\n      <td>2594</td>\n      <td>Red</td>\n      <td>Squaw Valley, Tahoe City, West Shore</td>\n      <td>NaN</td>\n      <td>3</td>\n      <td>http://www.northlaketahoeexpress.com/routes/</td>\n      <td>c40d20</td>\n      <td>ffffff</td>\n      <td>16</td>\n      <td>NaN</td>\n      <td>0</td>\n      <td>1</td>\n      <td>1</td>\n      <td>NaN</td>\n      <td>NaN</td>\n    </tr>\n    <tr>\n      <th>2</th>\n      <td>16</td>\n      <td>2595</td>\n      <td>Green</td>\n      <td>Truckee, Northstar</td>\n      <td>NaN</td>\n      <td>3</td>\n      <td>http://www.northlaketahoeexpress.com/routes/</td>\n      <td>35a239</td>\n      <td>000000</td>\n      <td>17</td>\n      <td>NaN</td>\n      <td>0</td>\n      <td>1</td>\n      <td>1</td>\n      <td>NaN</td>\n      <td>NaN</td>\n    </tr>\n    <tr>\n      <th>3</th>\n      <td>904</td>\n      <td>Hwy267</td>\n      <td>Hwy267</td>\n      <td>Highway 267 AM/PM</td>\n      <td>NaN</td>\n      <td>3</td>\n      <td>https://tahoetruckeetransit.com/routes/route-h...</td>\n      <td>f50505</td>\n      <td>000000</td>\n      <td>3</td>\n      <td>NaN</td>\n      <td>0</td>\n      <td>1</td>\n      <td>1</td>\n      <td>NaN</td>\n      <td>NaN</td>\n    </tr>\n    <tr>\n      <th>4</th>\n      <td>904</td>\n      <td>Hwy89</td>\n      <td>Hwy89</td>\n      <td>Highway 89 AM/PM</td>\n      <td>NaN</td>\n      <td>3</td>\n      <td>https://tahoetruckeetransit.com/routes/route-h...</td>\n      <td>e0b909</td>\n      <td>000000</td>\n      <td>5</td>\n      <td>NaN</td>\n      <td>0</td>\n      <td>1</td>\n      <td>1</td>\n      <td>NaN</td>\n      <td>NaN</td>\n    </tr>\n    <tr>\n      <th>5</th>\n      <td>904</td>\n      <td>ML</td>\n      <td>ML</td>\n      <td>Mainline AM/PM</td>\n      <td>NaN</td>\n      <td>3</td>\n      <td>https://tahoetruckeetransit.com/routes/route-ml/</td>\n      <td>11a3ba</td>\n      <td>000000</td>\n      <td>6</td>\n      <td>NaN</td>\n      <td>0</td>\n      <td>1</td>\n      <td>1</td>\n      <td>NaN</td>\n      <td>NaN</td>\n    </tr>\n    <tr>\n      <th>6</th>\n      <td>904</td>\n      <td>TLR</td>\n      <td>TLR</td>\n      <td>Truckee Local</td>\n      <td>NaN</td>\n      <td>3</td>\n      <td>https://tahoetruckeetransit.com/routes/route-tlr/</td>\n      <td>83f05b</td>\n      <td>000000</td>\n      <td>7</td>\n      <td>NaN</td>\n      <td>0</td>\n      <td>1</td>\n      <td>1</td>\n      <td>NaN</td>\n      <td>NaN</td>\n    </tr>\n  </tbody>\n</table>\n</div>"
     },
     "execution_count": 10,
     "metadata": {},
     "output_type": "execute_result"
    }
   ],
   "source": [
    "routes = pd.read_csv(\"./laketahoe-ca-us/routes.txt\", sep=\",\", header=0)\n",
    "routes"
   ],
   "metadata": {
    "collapsed": false,
    "ExecuteTime": {
     "end_time": "2023-10-29T07:09:26.859129Z",
     "start_time": "2023-10-29T07:09:26.814229Z"
    }
   },
   "id": "ae9f85521fa988f2"
  },
  {
   "cell_type": "code",
   "execution_count": 11,
   "outputs": [
    {
     "data": {
      "text/plain": "   route_id  direction_id   direction\n0      2596             1   Westbound\n1      2596             0   Eastbound\n2      2595             0   Eastbound\n3      2594             1   Westbound\n4      2594             0   Eastbound\n5        ML             1   Eastbound\n6        ML             0   Westbound\n7     Hwy89             1  Southbound\n8     Hwy89             0  Northbound\n9    Hwy267             1  Southbound\n10   Hwy267             0  Northbound\n11      TLR             1   Eastbound\n12      TLR             0   Westbound",
      "text/html": "<div>\n<style scoped>\n    .dataframe tbody tr th:only-of-type {\n        vertical-align: middle;\n    }\n\n    .dataframe tbody tr th {\n        vertical-align: top;\n    }\n\n    .dataframe thead th {\n        text-align: right;\n    }\n</style>\n<table border=\"1\" class=\"dataframe\">\n  <thead>\n    <tr style=\"text-align: right;\">\n      <th></th>\n      <th>route_id</th>\n      <th>direction_id</th>\n      <th>direction</th>\n    </tr>\n  </thead>\n  <tbody>\n    <tr>\n      <th>0</th>\n      <td>2596</td>\n      <td>1</td>\n      <td>Westbound</td>\n    </tr>\n    <tr>\n      <th>1</th>\n      <td>2596</td>\n      <td>0</td>\n      <td>Eastbound</td>\n    </tr>\n    <tr>\n      <th>2</th>\n      <td>2595</td>\n      <td>0</td>\n      <td>Eastbound</td>\n    </tr>\n    <tr>\n      <th>3</th>\n      <td>2594</td>\n      <td>1</td>\n      <td>Westbound</td>\n    </tr>\n    <tr>\n      <th>4</th>\n      <td>2594</td>\n      <td>0</td>\n      <td>Eastbound</td>\n    </tr>\n    <tr>\n      <th>5</th>\n      <td>ML</td>\n      <td>1</td>\n      <td>Eastbound</td>\n    </tr>\n    <tr>\n      <th>6</th>\n      <td>ML</td>\n      <td>0</td>\n      <td>Westbound</td>\n    </tr>\n    <tr>\n      <th>7</th>\n      <td>Hwy89</td>\n      <td>1</td>\n      <td>Southbound</td>\n    </tr>\n    <tr>\n      <th>8</th>\n      <td>Hwy89</td>\n      <td>0</td>\n      <td>Northbound</td>\n    </tr>\n    <tr>\n      <th>9</th>\n      <td>Hwy267</td>\n      <td>1</td>\n      <td>Southbound</td>\n    </tr>\n    <tr>\n      <th>10</th>\n      <td>Hwy267</td>\n      <td>0</td>\n      <td>Northbound</td>\n    </tr>\n    <tr>\n      <th>11</th>\n      <td>TLR</td>\n      <td>1</td>\n      <td>Eastbound</td>\n    </tr>\n    <tr>\n      <th>12</th>\n      <td>TLR</td>\n      <td>0</td>\n      <td>Westbound</td>\n    </tr>\n  </tbody>\n</table>\n</div>"
     },
     "execution_count": 11,
     "metadata": {},
     "output_type": "execute_result"
    }
   ],
   "source": [
    "directions = pd.read_csv(\"./laketahoe-ca-us/directions.txt\", sep=\",\", header=0)\n",
    "directions"
   ],
   "metadata": {
    "collapsed": false,
    "ExecuteTime": {
     "end_time": "2023-10-29T07:09:26.882351Z",
     "start_time": "2023-10-29T07:09:26.821421Z"
    }
   },
   "id": "a80e5c8344d27fb3"
  },
  {
   "cell_type": "code",
   "execution_count": 12,
   "outputs": [
    {
     "data": {
      "text/plain": "array(['To Reno Airport', 'To Resorts', 'Crystal Bay to Truckee Depot',\n       'Truckee Depot to Crystal Bay', 'Tahoe City to Truckee Depot',\n       'Truckee Depot to Tahoe City', 'Incline to Tahoma',\n       'Incline to Tahoe City', 'Tahoe City to Tahoma',\n       'Crystal Bay to Tahoe City', 'Incline to Crystal Bay',\n       'Tahoma to Crystal Bay', 'Tahoe City to Incline',\n       'Tahoma to Incline', 'Henness Rd to Donner Pass',\n       'Donner Pass Rd to Henness Rd'], dtype=object)"
     },
     "execution_count": 12,
     "metadata": {},
     "output_type": "execute_result"
    }
   ],
   "source": [
    "trips = pd.read_csv(\"./laketahoe-ca-us/trips.txt\", sep=\",\", header=0)\n",
    "trips.trip_headsign.unique()"
   ],
   "metadata": {
    "collapsed": false,
    "ExecuteTime": {
     "end_time": "2023-10-29T07:09:26.882626Z",
     "start_time": "2023-10-29T07:09:26.826114Z"
    }
   },
   "id": "683add3686a79273"
  },
  {
   "cell_type": "code",
   "execution_count": 13,
   "outputs": [
    {
     "data": {
      "text/plain": "                     trip_id arrival_time departure_time  stop_id  \\\n0     t_1249579_b_81456_tn_0     08:30:00       08:30:00      100   \n1     t_1249579_b_81456_tn_0     08:36:00       08:36:00      401   \n2     t_1249579_b_81456_tn_0     08:39:00       08:39:00      402   \n3     t_1249579_b_81456_tn_0          NaN            NaN      403   \n4     t_1249579_b_81456_tn_0          NaN            NaN      404   \n...                      ...          ...            ...      ...   \n3206   t_914889_b_23399_tn_0     15:25:00       15:25:00     2480   \n3207   t_914889_b_23399_tn_0     15:30:00       15:30:00     4380   \n3208   t_914889_b_23399_tn_0     15:35:00       15:35:00     2483   \n3209   t_914889_b_23399_tn_0     15:40:00       15:40:00  2504930   \n3210   t_914889_b_23399_tn_0     16:40:00       16:40:00     2463   \n\n      stop_sequence  stop_headsign  pickup_type  drop_off_type  \\\n0                 1            NaN            0              0   \n1                 2            NaN            0              0   \n2                 3            NaN            0              0   \n3                 4            NaN            0              0   \n4                 5            NaN            0              0   \n...             ...            ...          ...            ...   \n3206             15            NaN            2              1   \n3207             16            NaN            2              1   \n3208             17            NaN            2              1   \n3209             18            NaN            2              1   \n3210             19            NaN            1              2   \n\n      shape_dist_traveled  timepoint  ...  drop_off_booking_rule_id  \\\n0                0.000000          1  ...                       NaN   \n1             6513.148613          1  ...                       NaN   \n2             8784.794535          1  ...                       NaN   \n3             9183.854016          0  ...                       NaN   \n4            11660.297592          0  ...                       NaN   \n...                   ...        ...  ...                       ...   \n3206          5383.683938          1  ...                       NaN   \n3207         13202.503425          1  ...                       NaN   \n3208         14467.089712          1  ...                       NaN   \n3209         15493.785335          1  ...                       NaN   \n3210         69541.426535          1  ...                       NaN   \n\n      start_pickup_drop_off_window  end_pickup_drop_off_window  \\\n0                              NaN                         NaN   \n1                              NaN                         NaN   \n2                              NaN                         NaN   \n3                              NaN                         NaN   \n4                              NaN                         NaN   \n...                            ...                         ...   \n3206                           NaN                         NaN   \n3207                           NaN                         NaN   \n3208                           NaN                         NaN   \n3209                           NaN                         NaN   \n3210                           NaN                         NaN   \n\n      mean_duration_factor  mean_duration_offset  safe_duration_factor  \\\n0                      NaN                   NaN                   NaN   \n1                      NaN                   NaN                   NaN   \n2                      NaN                   NaN                   NaN   \n3                      NaN                   NaN                   NaN   \n4                      NaN                   NaN                   NaN   \n...                    ...                   ...                   ...   \n3206                   NaN                   NaN                   NaN   \n3207                   NaN                   NaN                   NaN   \n3208                   NaN                   NaN                   NaN   \n3209                   NaN                   NaN                   NaN   \n3210                   NaN                   NaN                   NaN   \n\n      safe_duration_offset  tts_stop_headsign  min_arrival_time  \\\n0                      NaN                NaN               NaN   \n1                      NaN                NaN               NaN   \n2                      NaN                NaN               NaN   \n3                      NaN                NaN               NaN   \n4                      NaN                NaN               NaN   \n...                    ...                ...               ...   \n3206                   NaN                NaN               NaN   \n3207                   NaN                NaN               NaN   \n3208                   NaN                NaN               NaN   \n3209                   NaN                NaN               NaN   \n3210                   NaN                NaN               NaN   \n\n      max_departure_time  \n0                    NaN  \n1                    NaN  \n2                    NaN  \n3                    NaN  \n4                    NaN  \n...                  ...  \n3206                 NaN  \n3207                 NaN  \n3208                 NaN  \n3209                 NaN  \n3210                 NaN  \n\n[3211 rows x 27 columns]",
      "text/html": "<div>\n<style scoped>\n    .dataframe tbody tr th:only-of-type {\n        vertical-align: middle;\n    }\n\n    .dataframe tbody tr th {\n        vertical-align: top;\n    }\n\n    .dataframe thead th {\n        text-align: right;\n    }\n</style>\n<table border=\"1\" class=\"dataframe\">\n  <thead>\n    <tr style=\"text-align: right;\">\n      <th></th>\n      <th>trip_id</th>\n      <th>arrival_time</th>\n      <th>departure_time</th>\n      <th>stop_id</th>\n      <th>stop_sequence</th>\n      <th>stop_headsign</th>\n      <th>pickup_type</th>\n      <th>drop_off_type</th>\n      <th>shape_dist_traveled</th>\n      <th>timepoint</th>\n      <th>...</th>\n      <th>drop_off_booking_rule_id</th>\n      <th>start_pickup_drop_off_window</th>\n      <th>end_pickup_drop_off_window</th>\n      <th>mean_duration_factor</th>\n      <th>mean_duration_offset</th>\n      <th>safe_duration_factor</th>\n      <th>safe_duration_offset</th>\n      <th>tts_stop_headsign</th>\n      <th>min_arrival_time</th>\n      <th>max_departure_time</th>\n    </tr>\n  </thead>\n  <tbody>\n    <tr>\n      <th>0</th>\n      <td>t_1249579_b_81456_tn_0</td>\n      <td>08:30:00</td>\n      <td>08:30:00</td>\n      <td>100</td>\n      <td>1</td>\n      <td>NaN</td>\n      <td>0</td>\n      <td>0</td>\n      <td>0.000000</td>\n      <td>1</td>\n      <td>...</td>\n      <td>NaN</td>\n      <td>NaN</td>\n      <td>NaN</td>\n      <td>NaN</td>\n      <td>NaN</td>\n      <td>NaN</td>\n      <td>NaN</td>\n      <td>NaN</td>\n      <td>NaN</td>\n      <td>NaN</td>\n    </tr>\n    <tr>\n      <th>1</th>\n      <td>t_1249579_b_81456_tn_0</td>\n      <td>08:36:00</td>\n      <td>08:36:00</td>\n      <td>401</td>\n      <td>2</td>\n      <td>NaN</td>\n      <td>0</td>\n      <td>0</td>\n      <td>6513.148613</td>\n      <td>1</td>\n      <td>...</td>\n      <td>NaN</td>\n      <td>NaN</td>\n      <td>NaN</td>\n      <td>NaN</td>\n      <td>NaN</td>\n      <td>NaN</td>\n      <td>NaN</td>\n      <td>NaN</td>\n      <td>NaN</td>\n      <td>NaN</td>\n    </tr>\n    <tr>\n      <th>2</th>\n      <td>t_1249579_b_81456_tn_0</td>\n      <td>08:39:00</td>\n      <td>08:39:00</td>\n      <td>402</td>\n      <td>3</td>\n      <td>NaN</td>\n      <td>0</td>\n      <td>0</td>\n      <td>8784.794535</td>\n      <td>1</td>\n      <td>...</td>\n      <td>NaN</td>\n      <td>NaN</td>\n      <td>NaN</td>\n      <td>NaN</td>\n      <td>NaN</td>\n      <td>NaN</td>\n      <td>NaN</td>\n      <td>NaN</td>\n      <td>NaN</td>\n      <td>NaN</td>\n    </tr>\n    <tr>\n      <th>3</th>\n      <td>t_1249579_b_81456_tn_0</td>\n      <td>NaN</td>\n      <td>NaN</td>\n      <td>403</td>\n      <td>4</td>\n      <td>NaN</td>\n      <td>0</td>\n      <td>0</td>\n      <td>9183.854016</td>\n      <td>0</td>\n      <td>...</td>\n      <td>NaN</td>\n      <td>NaN</td>\n      <td>NaN</td>\n      <td>NaN</td>\n      <td>NaN</td>\n      <td>NaN</td>\n      <td>NaN</td>\n      <td>NaN</td>\n      <td>NaN</td>\n      <td>NaN</td>\n    </tr>\n    <tr>\n      <th>4</th>\n      <td>t_1249579_b_81456_tn_0</td>\n      <td>NaN</td>\n      <td>NaN</td>\n      <td>404</td>\n      <td>5</td>\n      <td>NaN</td>\n      <td>0</td>\n      <td>0</td>\n      <td>11660.297592</td>\n      <td>0</td>\n      <td>...</td>\n      <td>NaN</td>\n      <td>NaN</td>\n      <td>NaN</td>\n      <td>NaN</td>\n      <td>NaN</td>\n      <td>NaN</td>\n      <td>NaN</td>\n      <td>NaN</td>\n      <td>NaN</td>\n      <td>NaN</td>\n    </tr>\n    <tr>\n      <th>...</th>\n      <td>...</td>\n      <td>...</td>\n      <td>...</td>\n      <td>...</td>\n      <td>...</td>\n      <td>...</td>\n      <td>...</td>\n      <td>...</td>\n      <td>...</td>\n      <td>...</td>\n      <td>...</td>\n      <td>...</td>\n      <td>...</td>\n      <td>...</td>\n      <td>...</td>\n      <td>...</td>\n      <td>...</td>\n      <td>...</td>\n      <td>...</td>\n      <td>...</td>\n      <td>...</td>\n    </tr>\n    <tr>\n      <th>3206</th>\n      <td>t_914889_b_23399_tn_0</td>\n      <td>15:25:00</td>\n      <td>15:25:00</td>\n      <td>2480</td>\n      <td>15</td>\n      <td>NaN</td>\n      <td>2</td>\n      <td>1</td>\n      <td>5383.683938</td>\n      <td>1</td>\n      <td>...</td>\n      <td>NaN</td>\n      <td>NaN</td>\n      <td>NaN</td>\n      <td>NaN</td>\n      <td>NaN</td>\n      <td>NaN</td>\n      <td>NaN</td>\n      <td>NaN</td>\n      <td>NaN</td>\n      <td>NaN</td>\n    </tr>\n    <tr>\n      <th>3207</th>\n      <td>t_914889_b_23399_tn_0</td>\n      <td>15:30:00</td>\n      <td>15:30:00</td>\n      <td>4380</td>\n      <td>16</td>\n      <td>NaN</td>\n      <td>2</td>\n      <td>1</td>\n      <td>13202.503425</td>\n      <td>1</td>\n      <td>...</td>\n      <td>NaN</td>\n      <td>NaN</td>\n      <td>NaN</td>\n      <td>NaN</td>\n      <td>NaN</td>\n      <td>NaN</td>\n      <td>NaN</td>\n      <td>NaN</td>\n      <td>NaN</td>\n      <td>NaN</td>\n    </tr>\n    <tr>\n      <th>3208</th>\n      <td>t_914889_b_23399_tn_0</td>\n      <td>15:35:00</td>\n      <td>15:35:00</td>\n      <td>2483</td>\n      <td>17</td>\n      <td>NaN</td>\n      <td>2</td>\n      <td>1</td>\n      <td>14467.089712</td>\n      <td>1</td>\n      <td>...</td>\n      <td>NaN</td>\n      <td>NaN</td>\n      <td>NaN</td>\n      <td>NaN</td>\n      <td>NaN</td>\n      <td>NaN</td>\n      <td>NaN</td>\n      <td>NaN</td>\n      <td>NaN</td>\n      <td>NaN</td>\n    </tr>\n    <tr>\n      <th>3209</th>\n      <td>t_914889_b_23399_tn_0</td>\n      <td>15:40:00</td>\n      <td>15:40:00</td>\n      <td>2504930</td>\n      <td>18</td>\n      <td>NaN</td>\n      <td>2</td>\n      <td>1</td>\n      <td>15493.785335</td>\n      <td>1</td>\n      <td>...</td>\n      <td>NaN</td>\n      <td>NaN</td>\n      <td>NaN</td>\n      <td>NaN</td>\n      <td>NaN</td>\n      <td>NaN</td>\n      <td>NaN</td>\n      <td>NaN</td>\n      <td>NaN</td>\n      <td>NaN</td>\n    </tr>\n    <tr>\n      <th>3210</th>\n      <td>t_914889_b_23399_tn_0</td>\n      <td>16:40:00</td>\n      <td>16:40:00</td>\n      <td>2463</td>\n      <td>19</td>\n      <td>NaN</td>\n      <td>1</td>\n      <td>2</td>\n      <td>69541.426535</td>\n      <td>1</td>\n      <td>...</td>\n      <td>NaN</td>\n      <td>NaN</td>\n      <td>NaN</td>\n      <td>NaN</td>\n      <td>NaN</td>\n      <td>NaN</td>\n      <td>NaN</td>\n      <td>NaN</td>\n      <td>NaN</td>\n      <td>NaN</td>\n    </tr>\n  </tbody>\n</table>\n<p>3211 rows × 27 columns</p>\n</div>"
     },
     "execution_count": 13,
     "metadata": {},
     "output_type": "execute_result"
    }
   ],
   "source": [
    "stop_times = pd.read_csv(\"./laketahoe-ca-us/stop_times.txt\", sep=\",\", header=0)\n",
    "stop_times"
   ],
   "metadata": {
    "collapsed": false,
    "ExecuteTime": {
     "end_time": "2023-10-29T07:09:26.883094Z",
     "start_time": "2023-10-29T07:09:26.831906Z"
    }
   },
   "id": "af5718b405b9e348"
  },
  {
   "cell_type": "code",
   "execution_count": 14,
   "outputs": [
    {
     "data": {
      "text/plain": "              service_id                                service_name  monday  \\\n0  c_18269_b_23399_d_127           Year Round NEW (All days of week)       1   \n1  c_17881_b_81456_d_127  Fall Schedules / Spring (All days of week)       1   \n\n   tuesday  wednesday  thursday  friday  saturday  sunday  start_date  \\\n0        1          1         1       1         1       1    20191202   \n1        1          1         1       1         1       1    20230905   \n\n   end_date  \n0  20240201  \n1  20231213  ",
      "text/html": "<div>\n<style scoped>\n    .dataframe tbody tr th:only-of-type {\n        vertical-align: middle;\n    }\n\n    .dataframe tbody tr th {\n        vertical-align: top;\n    }\n\n    .dataframe thead th {\n        text-align: right;\n    }\n</style>\n<table border=\"1\" class=\"dataframe\">\n  <thead>\n    <tr style=\"text-align: right;\">\n      <th></th>\n      <th>service_id</th>\n      <th>service_name</th>\n      <th>monday</th>\n      <th>tuesday</th>\n      <th>wednesday</th>\n      <th>thursday</th>\n      <th>friday</th>\n      <th>saturday</th>\n      <th>sunday</th>\n      <th>start_date</th>\n      <th>end_date</th>\n    </tr>\n  </thead>\n  <tbody>\n    <tr>\n      <th>0</th>\n      <td>c_18269_b_23399_d_127</td>\n      <td>Year Round NEW (All days of week)</td>\n      <td>1</td>\n      <td>1</td>\n      <td>1</td>\n      <td>1</td>\n      <td>1</td>\n      <td>1</td>\n      <td>1</td>\n      <td>20191202</td>\n      <td>20240201</td>\n    </tr>\n    <tr>\n      <th>1</th>\n      <td>c_17881_b_81456_d_127</td>\n      <td>Fall Schedules / Spring (All days of week)</td>\n      <td>1</td>\n      <td>1</td>\n      <td>1</td>\n      <td>1</td>\n      <td>1</td>\n      <td>1</td>\n      <td>1</td>\n      <td>20230905</td>\n      <td>20231213</td>\n    </tr>\n  </tbody>\n</table>\n</div>"
     },
     "execution_count": 14,
     "metadata": {},
     "output_type": "execute_result"
    }
   ],
   "source": [
    "calendar = pd.read_csv(\"./laketahoe-ca-us/calendar.txt\", sep=\",\", header=0)\n",
    "calendar"
   ],
   "metadata": {
    "collapsed": false,
    "ExecuteTime": {
     "end_time": "2023-10-29T07:09:26.899057Z",
     "start_time": "2023-10-29T07:09:26.845265Z"
    }
   },
   "id": "c0baef40b29f01ef"
  },
  {
   "cell_type": "code",
   "execution_count": 14,
   "outputs": [],
   "source": [],
   "metadata": {
    "collapsed": false,
    "ExecuteTime": {
     "end_time": "2023-10-29T07:09:26.899196Z",
     "start_time": "2023-10-29T07:09:26.851136Z"
    }
   },
   "id": "5d8a8e4427e5fb0e"
  },
  {
   "cell_type": "code",
   "execution_count": 14,
   "outputs": [],
   "source": [],
   "metadata": {
    "collapsed": false,
    "ExecuteTime": {
     "end_time": "2023-10-29T07:09:26.899260Z",
     "start_time": "2023-10-29T07:09:26.852973Z"
    }
   },
   "id": "af4ba038853b8c80"
  }
 ],
 "metadata": {
  "kernelspec": {
   "display_name": "Python 3",
   "language": "python",
   "name": "python3"
  },
  "language_info": {
   "codemirror_mode": {
    "name": "ipython",
    "version": 2
   },
   "file_extension": ".py",
   "mimetype": "text/x-python",
   "name": "python",
   "nbconvert_exporter": "python",
   "pygments_lexer": "ipython2",
   "version": "2.7.6"
  }
 },
 "nbformat": 4,
 "nbformat_minor": 5
}
