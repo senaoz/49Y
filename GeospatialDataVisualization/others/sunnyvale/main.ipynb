{
 "cells": [
  {
   "cell_type": "code",
   "execution_count": 4,
   "id": "initial_id",
   "metadata": {
    "collapsed": true,
    "ExecuteTime": {
     "end_time": "2023-10-29T07:19:20.310890Z",
     "start_time": "2023-10-29T07:19:20.299692Z"
    }
   },
   "outputs": [
    {
     "data": {
      "text/plain": "   route_id agency_id route_short_name                    route_long_name  \\\n0      Blue       VTA        Blue Line           Baypointe - Santa Teresa   \n1     Green       VTA       Green Line         Old Ironsides - Winchester   \n2     Ornge       VTA      Orange Line          Mountain View - Alum Rock   \n3       500       VTA        Rapid 500  San Jose Diridon - Berryessa BART   \n4     OranE       VTA          OrangeE          Mountain View - Alum Rock   \n..      ...       ...              ...                                ...   \n71      831       VTA       ACE Violet                      West Milpitas   \n72      911       VTA       Event-Blue                    Event-Blue Line   \n73      912       VTA    Event-Special                 Event-Special Line   \n74      913       VTA     Event-Orange                  Event-Orange Line   \n75      914       VTA      Event-Green                   Event-Green Line   \n\n                                           route_desc  route_type  \\\n0                                                 NaN           0   \n1                                                 NaN           0   \n2                                                 NaN           0   \n3   Rapid buses may depart up to five minutes earl...           3   \n4   Due to construction, portions of Light Rail re...           0   \n..                                                ...         ...   \n71                                                NaN           3   \n72                             Levi's Stadium Service           0   \n73                             Levi's Stadium Service           0   \n74                             Levi's Stadium Service           0   \n75                             Levi's Stadium Service           0   \n\n                                            route_url route_color  \\\n0             https://www.vta.org/go/routes/blue-line      4cb4e7   \n1            https://www.vta.org/go/routes/green-line      73c92d   \n2           https://www.vta.org/go/routes/orange-line      ff8300   \n3             https://www.vta.org/go/routes/rapid-500      e4002b   \n4                          https://www.vta.org/alerts      ff8300   \n..                                                ...         ...   \n71  https://acerail.com/silicon-valley-business-sh...      bbb7da   \n72        https://www.vta.org/go/events/levis-stadium      4cb4e7   \n73        https://www.vta.org/go/events/levis-stadium      ffe601   \n74        https://www.vta.org/go/events/levis-stadium      ff8300   \n75        https://www.vta.org/go/events/levis-stadium      73c92d   \n\n   route_text_color  route_sort_order  ext_route_type  \n0            000000                 1             900  \n1            000000                 2             900  \n2            000000                 3             900  \n3            FFFFFF                 4             702  \n4            000000                 5             110  \n..              ...               ...             ...  \n71           000000               831             711  \n72           000000               911             111  \n73           000000               912             111  \n74           000000               913             111  \n75           000000               914             111  \n\n[76 rows x 11 columns]",
      "text/html": "<div>\n<style scoped>\n    .dataframe tbody tr th:only-of-type {\n        vertical-align: middle;\n    }\n\n    .dataframe tbody tr th {\n        vertical-align: top;\n    }\n\n    .dataframe thead th {\n        text-align: right;\n    }\n</style>\n<table border=\"1\" class=\"dataframe\">\n  <thead>\n    <tr style=\"text-align: right;\">\n      <th></th>\n      <th>route_id</th>\n      <th>agency_id</th>\n      <th>route_short_name</th>\n      <th>route_long_name</th>\n      <th>route_desc</th>\n      <th>route_type</th>\n      <th>route_url</th>\n      <th>route_color</th>\n      <th>route_text_color</th>\n      <th>route_sort_order</th>\n      <th>ext_route_type</th>\n    </tr>\n  </thead>\n  <tbody>\n    <tr>\n      <th>0</th>\n      <td>Blue</td>\n      <td>VTA</td>\n      <td>Blue Line</td>\n      <td>Baypointe - Santa Teresa</td>\n      <td>NaN</td>\n      <td>0</td>\n      <td>https://www.vta.org/go/routes/blue-line</td>\n      <td>4cb4e7</td>\n      <td>000000</td>\n      <td>1</td>\n      <td>900</td>\n    </tr>\n    <tr>\n      <th>1</th>\n      <td>Green</td>\n      <td>VTA</td>\n      <td>Green Line</td>\n      <td>Old Ironsides - Winchester</td>\n      <td>NaN</td>\n      <td>0</td>\n      <td>https://www.vta.org/go/routes/green-line</td>\n      <td>73c92d</td>\n      <td>000000</td>\n      <td>2</td>\n      <td>900</td>\n    </tr>\n    <tr>\n      <th>2</th>\n      <td>Ornge</td>\n      <td>VTA</td>\n      <td>Orange Line</td>\n      <td>Mountain View - Alum Rock</td>\n      <td>NaN</td>\n      <td>0</td>\n      <td>https://www.vta.org/go/routes/orange-line</td>\n      <td>ff8300</td>\n      <td>000000</td>\n      <td>3</td>\n      <td>900</td>\n    </tr>\n    <tr>\n      <th>3</th>\n      <td>500</td>\n      <td>VTA</td>\n      <td>Rapid 500</td>\n      <td>San Jose Diridon - Berryessa BART</td>\n      <td>Rapid buses may depart up to five minutes earl...</td>\n      <td>3</td>\n      <td>https://www.vta.org/go/routes/rapid-500</td>\n      <td>e4002b</td>\n      <td>FFFFFF</td>\n      <td>4</td>\n      <td>702</td>\n    </tr>\n    <tr>\n      <th>4</th>\n      <td>OranE</td>\n      <td>VTA</td>\n      <td>OrangeE</td>\n      <td>Mountain View - Alum Rock</td>\n      <td>Due to construction, portions of Light Rail re...</td>\n      <td>0</td>\n      <td>https://www.vta.org/alerts</td>\n      <td>ff8300</td>\n      <td>000000</td>\n      <td>5</td>\n      <td>110</td>\n    </tr>\n    <tr>\n      <th>...</th>\n      <td>...</td>\n      <td>...</td>\n      <td>...</td>\n      <td>...</td>\n      <td>...</td>\n      <td>...</td>\n      <td>...</td>\n      <td>...</td>\n      <td>...</td>\n      <td>...</td>\n      <td>...</td>\n    </tr>\n    <tr>\n      <th>71</th>\n      <td>831</td>\n      <td>VTA</td>\n      <td>ACE Violet</td>\n      <td>West Milpitas</td>\n      <td>NaN</td>\n      <td>3</td>\n      <td>https://acerail.com/silicon-valley-business-sh...</td>\n      <td>bbb7da</td>\n      <td>000000</td>\n      <td>831</td>\n      <td>711</td>\n    </tr>\n    <tr>\n      <th>72</th>\n      <td>911</td>\n      <td>VTA</td>\n      <td>Event-Blue</td>\n      <td>Event-Blue Line</td>\n      <td>Levi's Stadium Service</td>\n      <td>0</td>\n      <td>https://www.vta.org/go/events/levis-stadium</td>\n      <td>4cb4e7</td>\n      <td>000000</td>\n      <td>911</td>\n      <td>111</td>\n    </tr>\n    <tr>\n      <th>73</th>\n      <td>912</td>\n      <td>VTA</td>\n      <td>Event-Special</td>\n      <td>Event-Special Line</td>\n      <td>Levi's Stadium Service</td>\n      <td>0</td>\n      <td>https://www.vta.org/go/events/levis-stadium</td>\n      <td>ffe601</td>\n      <td>000000</td>\n      <td>912</td>\n      <td>111</td>\n    </tr>\n    <tr>\n      <th>74</th>\n      <td>913</td>\n      <td>VTA</td>\n      <td>Event-Orange</td>\n      <td>Event-Orange Line</td>\n      <td>Levi's Stadium Service</td>\n      <td>0</td>\n      <td>https://www.vta.org/go/events/levis-stadium</td>\n      <td>ff8300</td>\n      <td>000000</td>\n      <td>913</td>\n      <td>111</td>\n    </tr>\n    <tr>\n      <th>75</th>\n      <td>914</td>\n      <td>VTA</td>\n      <td>Event-Green</td>\n      <td>Event-Green Line</td>\n      <td>Levi's Stadium Service</td>\n      <td>0</td>\n      <td>https://www.vta.org/go/events/levis-stadium</td>\n      <td>73c92d</td>\n      <td>000000</td>\n      <td>914</td>\n      <td>111</td>\n    </tr>\n  </tbody>\n</table>\n<p>76 rows × 11 columns</p>\n</div>"
     },
     "execution_count": 4,
     "metadata": {},
     "output_type": "execute_result"
    }
   ],
   "source": [
    "import pandas as pd\n",
    "\n",
    "routes = pd.read_csv('./gtfs_vta/routes.txt', sep=\",\", header=0)\n",
    "routes"
   ]
  },
  {
   "cell_type": "code",
   "execution_count": 7,
   "outputs": [],
   "source": [
    "stops = pd.read_csv('./gtfs_vta/stops.txt', sep=\",\", header=0)\n",
    "stop_times = pd.read_csv('./gtfs_vta/stop_times.txt', sep=\",\", header=0)\n",
    "trips = pd.read_csv('./gtfs_vta/trips.txt', sep=\",\", header=0)\n",
    "directions = pd.read_csv('./gtfs_vta/directions.txt', sep=\",\", header=0)"
   ],
   "metadata": {
    "collapsed": false,
    "ExecuteTime": {
     "end_time": "2023-10-29T07:20:06.951443Z",
     "start_time": "2023-10-29T07:20:06.668477Z"
    }
   },
   "id": "9251a54f03263beb"
  },
  {
   "cell_type": "code",
   "execution_count": 8,
   "outputs": [
    {
     "data": {
      "text/plain": "      stop_id  stop_code                      stop_name   stop_desc  \\\n0     EL_BLSM        NaN  Blossom Hill Station Elevator         NaN   \n1     EL_BRNM        NaN       Branham Station Elevator         NaN   \n2     EL_CPTL        NaN       Capitol Station Elevator         NaN   \n3     EL_CTTL        NaN        Cottle Station Elevator         NaN   \n4     EL_SNLL        NaN         Snell Station Elevator         NaN   \n...       ...        ...                            ...         ...   \n3369     6055    66055.0               Moorpark & Empey   Eastbound   \n3370     6058    66058.0               Capitol & Senter   Eastbound   \n3371     6059    66059.0       Saratoga & Stevens Creek  Northbound   \n3372     6060    66060.0            Monterey & Cochrane  Northbound   \n3373     6061    66061.0            Monterey & Cochrane  Southbound   \n\n       stop_lat    stop_lon  zone_id  stop_url  location_type parent_station  \\\n0     37.252569 -121.840608      NaN       NaN              2        PS_BLSM   \n1     37.266430 -121.859200      NaN       NaN              2        PS_BRNM   \n2     37.274233 -121.863071      NaN       NaN              2        PS_CPTL   \n3     37.242774 -121.803293      NaN       NaN              2        PS_CTTL   \n4     37.247580 -121.830456      NaN       NaN              2        PS_SNLL   \n...         ...         ...      ...       ...            ...            ...   \n3369  37.315977 -121.937359      0.0       NaN              0            NaN   \n3370  37.293945 -121.832258      0.0       NaN              0            NaN   \n3371  37.323810 -121.969170      0.0       NaN              0            NaN   \n3372  37.145606 -121.665789      0.0       NaN              0            NaN   \n3373  37.144209 -121.664163      0.0       NaN              0            NaN   \n\n      wheelchair_boarding  platform_code sign_dest  \n0                       1            NaN       NaN  \n1                       1            NaN       NaN  \n2                       1            NaN       NaN  \n3                       1            NaN       NaN  \n4                       1            NaN       NaN  \n...                   ...            ...       ...  \n3369                    0            NaN       NaN  \n3370                    0            NaN       NaN  \n3371                    0            NaN       NaN  \n3372                    0            NaN       NaN  \n3373                    0            NaN       NaN  \n\n[3374 rows x 13 columns]",
      "text/html": "<div>\n<style scoped>\n    .dataframe tbody tr th:only-of-type {\n        vertical-align: middle;\n    }\n\n    .dataframe tbody tr th {\n        vertical-align: top;\n    }\n\n    .dataframe thead th {\n        text-align: right;\n    }\n</style>\n<table border=\"1\" class=\"dataframe\">\n  <thead>\n    <tr style=\"text-align: right;\">\n      <th></th>\n      <th>stop_id</th>\n      <th>stop_code</th>\n      <th>stop_name</th>\n      <th>stop_desc</th>\n      <th>stop_lat</th>\n      <th>stop_lon</th>\n      <th>zone_id</th>\n      <th>stop_url</th>\n      <th>location_type</th>\n      <th>parent_station</th>\n      <th>wheelchair_boarding</th>\n      <th>platform_code</th>\n      <th>sign_dest</th>\n    </tr>\n  </thead>\n  <tbody>\n    <tr>\n      <th>0</th>\n      <td>EL_BLSM</td>\n      <td>NaN</td>\n      <td>Blossom Hill Station Elevator</td>\n      <td>NaN</td>\n      <td>37.252569</td>\n      <td>-121.840608</td>\n      <td>NaN</td>\n      <td>NaN</td>\n      <td>2</td>\n      <td>PS_BLSM</td>\n      <td>1</td>\n      <td>NaN</td>\n      <td>NaN</td>\n    </tr>\n    <tr>\n      <th>1</th>\n      <td>EL_BRNM</td>\n      <td>NaN</td>\n      <td>Branham Station Elevator</td>\n      <td>NaN</td>\n      <td>37.266430</td>\n      <td>-121.859200</td>\n      <td>NaN</td>\n      <td>NaN</td>\n      <td>2</td>\n      <td>PS_BRNM</td>\n      <td>1</td>\n      <td>NaN</td>\n      <td>NaN</td>\n    </tr>\n    <tr>\n      <th>2</th>\n      <td>EL_CPTL</td>\n      <td>NaN</td>\n      <td>Capitol Station Elevator</td>\n      <td>NaN</td>\n      <td>37.274233</td>\n      <td>-121.863071</td>\n      <td>NaN</td>\n      <td>NaN</td>\n      <td>2</td>\n      <td>PS_CPTL</td>\n      <td>1</td>\n      <td>NaN</td>\n      <td>NaN</td>\n    </tr>\n    <tr>\n      <th>3</th>\n      <td>EL_CTTL</td>\n      <td>NaN</td>\n      <td>Cottle Station Elevator</td>\n      <td>NaN</td>\n      <td>37.242774</td>\n      <td>-121.803293</td>\n      <td>NaN</td>\n      <td>NaN</td>\n      <td>2</td>\n      <td>PS_CTTL</td>\n      <td>1</td>\n      <td>NaN</td>\n      <td>NaN</td>\n    </tr>\n    <tr>\n      <th>4</th>\n      <td>EL_SNLL</td>\n      <td>NaN</td>\n      <td>Snell Station Elevator</td>\n      <td>NaN</td>\n      <td>37.247580</td>\n      <td>-121.830456</td>\n      <td>NaN</td>\n      <td>NaN</td>\n      <td>2</td>\n      <td>PS_SNLL</td>\n      <td>1</td>\n      <td>NaN</td>\n      <td>NaN</td>\n    </tr>\n    <tr>\n      <th>...</th>\n      <td>...</td>\n      <td>...</td>\n      <td>...</td>\n      <td>...</td>\n      <td>...</td>\n      <td>...</td>\n      <td>...</td>\n      <td>...</td>\n      <td>...</td>\n      <td>...</td>\n      <td>...</td>\n      <td>...</td>\n      <td>...</td>\n    </tr>\n    <tr>\n      <th>3369</th>\n      <td>6055</td>\n      <td>66055.0</td>\n      <td>Moorpark &amp; Empey</td>\n      <td>Eastbound</td>\n      <td>37.315977</td>\n      <td>-121.937359</td>\n      <td>0.0</td>\n      <td>NaN</td>\n      <td>0</td>\n      <td>NaN</td>\n      <td>0</td>\n      <td>NaN</td>\n      <td>NaN</td>\n    </tr>\n    <tr>\n      <th>3370</th>\n      <td>6058</td>\n      <td>66058.0</td>\n      <td>Capitol &amp; Senter</td>\n      <td>Eastbound</td>\n      <td>37.293945</td>\n      <td>-121.832258</td>\n      <td>0.0</td>\n      <td>NaN</td>\n      <td>0</td>\n      <td>NaN</td>\n      <td>0</td>\n      <td>NaN</td>\n      <td>NaN</td>\n    </tr>\n    <tr>\n      <th>3371</th>\n      <td>6059</td>\n      <td>66059.0</td>\n      <td>Saratoga &amp; Stevens Creek</td>\n      <td>Northbound</td>\n      <td>37.323810</td>\n      <td>-121.969170</td>\n      <td>0.0</td>\n      <td>NaN</td>\n      <td>0</td>\n      <td>NaN</td>\n      <td>0</td>\n      <td>NaN</td>\n      <td>NaN</td>\n    </tr>\n    <tr>\n      <th>3372</th>\n      <td>6060</td>\n      <td>66060.0</td>\n      <td>Monterey &amp; Cochrane</td>\n      <td>Northbound</td>\n      <td>37.145606</td>\n      <td>-121.665789</td>\n      <td>0.0</td>\n      <td>NaN</td>\n      <td>0</td>\n      <td>NaN</td>\n      <td>0</td>\n      <td>NaN</td>\n      <td>NaN</td>\n    </tr>\n    <tr>\n      <th>3373</th>\n      <td>6061</td>\n      <td>66061.0</td>\n      <td>Monterey &amp; Cochrane</td>\n      <td>Southbound</td>\n      <td>37.144209</td>\n      <td>-121.664163</td>\n      <td>0.0</td>\n      <td>NaN</td>\n      <td>0</td>\n      <td>NaN</td>\n      <td>0</td>\n      <td>NaN</td>\n      <td>NaN</td>\n    </tr>\n  </tbody>\n</table>\n<p>3374 rows × 13 columns</p>\n</div>"
     },
     "execution_count": 8,
     "metadata": {},
     "output_type": "execute_result"
    }
   ],
   "source": [
    "stops"
   ],
   "metadata": {
    "collapsed": false,
    "ExecuteTime": {
     "end_time": "2023-10-29T07:20:09.158931Z",
     "start_time": "2023-10-29T07:20:09.140488Z"
    }
   },
   "id": "a202e61580e2a1f0"
  },
  {
   "cell_type": "code",
   "execution_count": null,
   "outputs": [],
   "source": [],
   "metadata": {
    "collapsed": false
   },
   "id": "57b31c8382b02c5"
  }
 ],
 "metadata": {
  "kernelspec": {
   "display_name": "Python 3",
   "language": "python",
   "name": "python3"
  },
  "language_info": {
   "codemirror_mode": {
    "name": "ipython",
    "version": 2
   },
   "file_extension": ".py",
   "mimetype": "text/x-python",
   "name": "python",
   "nbconvert_exporter": "python",
   "pygments_lexer": "ipython2",
   "version": "2.7.6"
  }
 },
 "nbformat": 4,
 "nbformat_minor": 5
}
