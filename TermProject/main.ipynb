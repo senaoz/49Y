{
 "cells": [
  {
   "cell_type": "markdown",
   "source": [],
   "metadata": {
    "collapsed": false
   },
   "id": "d46c5d432dc072f5"
  },
  {
   "cell_type": "code",
   "execution_count": 15,
   "outputs": [
    {
     "data": {
      "text/plain": "            Date  Rented Bike Count  Hour  Temperature(°C)  Humidity(%)  \\\n0     01/12/2017                254     0             -5.2           37   \n1     01/12/2017                204     1             -5.5           38   \n2     01/12/2017                173     2             -6.0           39   \n3     01/12/2017                107     3             -6.2           40   \n4     01/12/2017                 78     4             -6.0           36   \n...          ...                ...   ...              ...          ...   \n8755  30/11/2018               1003    19              4.2           34   \n8756  30/11/2018                764    20              3.4           37   \n8757  30/11/2018                694    21              2.6           39   \n8758  30/11/2018                712    22              2.1           41   \n8759  30/11/2018                584    23              1.9           43   \n\n      Wind speed (m/s)  Visibility (10m)  Dew point temperature(°C)  \\\n0                  2.2              2000                      -17.6   \n1                  0.8              2000                      -17.6   \n2                  1.0              2000                      -17.7   \n3                  0.9              2000                      -17.6   \n4                  2.3              2000                      -18.6   \n...                ...               ...                        ...   \n8755               2.6              1894                      -10.3   \n8756               2.3              2000                       -9.9   \n8757               0.3              1968                       -9.9   \n8758               1.0              1859                       -9.8   \n8759               1.3              1909                       -9.3   \n\n      Solar Radiation (MJ/m2)  Rainfall(mm)  Snowfall (cm) Seasons  \\\n0                         0.0           0.0            0.0  Winter   \n1                         0.0           0.0            0.0  Winter   \n2                         0.0           0.0            0.0  Winter   \n3                         0.0           0.0            0.0  Winter   \n4                         0.0           0.0            0.0  Winter   \n...                       ...           ...            ...     ...   \n8755                      0.0           0.0            0.0  Autumn   \n8756                      0.0           0.0            0.0  Autumn   \n8757                      0.0           0.0            0.0  Autumn   \n8758                      0.0           0.0            0.0  Autumn   \n8759                      0.0           0.0            0.0  Autumn   \n\n         Holiday Functioning Day  \n0     No Holiday             Yes  \n1     No Holiday             Yes  \n2     No Holiday             Yes  \n3     No Holiday             Yes  \n4     No Holiday             Yes  \n...          ...             ...  \n8755  No Holiday             Yes  \n8756  No Holiday             Yes  \n8757  No Holiday             Yes  \n8758  No Holiday             Yes  \n8759  No Holiday             Yes  \n\n[8760 rows x 14 columns]",
      "text/html": "<div>\n<style scoped>\n    .dataframe tbody tr th:only-of-type {\n        vertical-align: middle;\n    }\n\n    .dataframe tbody tr th {\n        vertical-align: top;\n    }\n\n    .dataframe thead th {\n        text-align: right;\n    }\n</style>\n<table border=\"1\" class=\"dataframe\">\n  <thead>\n    <tr style=\"text-align: right;\">\n      <th></th>\n      <th>Date</th>\n      <th>Rented Bike Count</th>\n      <th>Hour</th>\n      <th>Temperature(°C)</th>\n      <th>Humidity(%)</th>\n      <th>Wind speed (m/s)</th>\n      <th>Visibility (10m)</th>\n      <th>Dew point temperature(°C)</th>\n      <th>Solar Radiation (MJ/m2)</th>\n      <th>Rainfall(mm)</th>\n      <th>Snowfall (cm)</th>\n      <th>Seasons</th>\n      <th>Holiday</th>\n      <th>Functioning Day</th>\n    </tr>\n  </thead>\n  <tbody>\n    <tr>\n      <th>0</th>\n      <td>01/12/2017</td>\n      <td>254</td>\n      <td>0</td>\n      <td>-5.2</td>\n      <td>37</td>\n      <td>2.2</td>\n      <td>2000</td>\n      <td>-17.6</td>\n      <td>0.0</td>\n      <td>0.0</td>\n      <td>0.0</td>\n      <td>Winter</td>\n      <td>No Holiday</td>\n      <td>Yes</td>\n    </tr>\n    <tr>\n      <th>1</th>\n      <td>01/12/2017</td>\n      <td>204</td>\n      <td>1</td>\n      <td>-5.5</td>\n      <td>38</td>\n      <td>0.8</td>\n      <td>2000</td>\n      <td>-17.6</td>\n      <td>0.0</td>\n      <td>0.0</td>\n      <td>0.0</td>\n      <td>Winter</td>\n      <td>No Holiday</td>\n      <td>Yes</td>\n    </tr>\n    <tr>\n      <th>2</th>\n      <td>01/12/2017</td>\n      <td>173</td>\n      <td>2</td>\n      <td>-6.0</td>\n      <td>39</td>\n      <td>1.0</td>\n      <td>2000</td>\n      <td>-17.7</td>\n      <td>0.0</td>\n      <td>0.0</td>\n      <td>0.0</td>\n      <td>Winter</td>\n      <td>No Holiday</td>\n      <td>Yes</td>\n    </tr>\n    <tr>\n      <th>3</th>\n      <td>01/12/2017</td>\n      <td>107</td>\n      <td>3</td>\n      <td>-6.2</td>\n      <td>40</td>\n      <td>0.9</td>\n      <td>2000</td>\n      <td>-17.6</td>\n      <td>0.0</td>\n      <td>0.0</td>\n      <td>0.0</td>\n      <td>Winter</td>\n      <td>No Holiday</td>\n      <td>Yes</td>\n    </tr>\n    <tr>\n      <th>4</th>\n      <td>01/12/2017</td>\n      <td>78</td>\n      <td>4</td>\n      <td>-6.0</td>\n      <td>36</td>\n      <td>2.3</td>\n      <td>2000</td>\n      <td>-18.6</td>\n      <td>0.0</td>\n      <td>0.0</td>\n      <td>0.0</td>\n      <td>Winter</td>\n      <td>No Holiday</td>\n      <td>Yes</td>\n    </tr>\n    <tr>\n      <th>...</th>\n      <td>...</td>\n      <td>...</td>\n      <td>...</td>\n      <td>...</td>\n      <td>...</td>\n      <td>...</td>\n      <td>...</td>\n      <td>...</td>\n      <td>...</td>\n      <td>...</td>\n      <td>...</td>\n      <td>...</td>\n      <td>...</td>\n      <td>...</td>\n    </tr>\n    <tr>\n      <th>8755</th>\n      <td>30/11/2018</td>\n      <td>1003</td>\n      <td>19</td>\n      <td>4.2</td>\n      <td>34</td>\n      <td>2.6</td>\n      <td>1894</td>\n      <td>-10.3</td>\n      <td>0.0</td>\n      <td>0.0</td>\n      <td>0.0</td>\n      <td>Autumn</td>\n      <td>No Holiday</td>\n      <td>Yes</td>\n    </tr>\n    <tr>\n      <th>8756</th>\n      <td>30/11/2018</td>\n      <td>764</td>\n      <td>20</td>\n      <td>3.4</td>\n      <td>37</td>\n      <td>2.3</td>\n      <td>2000</td>\n      <td>-9.9</td>\n      <td>0.0</td>\n      <td>0.0</td>\n      <td>0.0</td>\n      <td>Autumn</td>\n      <td>No Holiday</td>\n      <td>Yes</td>\n    </tr>\n    <tr>\n      <th>8757</th>\n      <td>30/11/2018</td>\n      <td>694</td>\n      <td>21</td>\n      <td>2.6</td>\n      <td>39</td>\n      <td>0.3</td>\n      <td>1968</td>\n      <td>-9.9</td>\n      <td>0.0</td>\n      <td>0.0</td>\n      <td>0.0</td>\n      <td>Autumn</td>\n      <td>No Holiday</td>\n      <td>Yes</td>\n    </tr>\n    <tr>\n      <th>8758</th>\n      <td>30/11/2018</td>\n      <td>712</td>\n      <td>22</td>\n      <td>2.1</td>\n      <td>41</td>\n      <td>1.0</td>\n      <td>1859</td>\n      <td>-9.8</td>\n      <td>0.0</td>\n      <td>0.0</td>\n      <td>0.0</td>\n      <td>Autumn</td>\n      <td>No Holiday</td>\n      <td>Yes</td>\n    </tr>\n    <tr>\n      <th>8759</th>\n      <td>30/11/2018</td>\n      <td>584</td>\n      <td>23</td>\n      <td>1.9</td>\n      <td>43</td>\n      <td>1.3</td>\n      <td>1909</td>\n      <td>-9.3</td>\n      <td>0.0</td>\n      <td>0.0</td>\n      <td>0.0</td>\n      <td>Autumn</td>\n      <td>No Holiday</td>\n      <td>Yes</td>\n    </tr>\n  </tbody>\n</table>\n<p>8760 rows × 14 columns</p>\n</div>"
     },
     "execution_count": 15,
     "metadata": {},
     "output_type": "execute_result"
    }
   ],
   "source": [
    "# https://archive.ics.uci.edu/dataset/560/seoul+bike+sharing+demand\n",
    "\n",
    "import pandas as pd\n",
    "\n",
    "file_path = './seoulBikeData.csv'\n",
    "data = pd.read_csv(file_path, encoding='unicode_escape')\n",
    "\n",
    "data"
   ],
   "metadata": {
    "collapsed": false,
    "ExecuteTime": {
     "start_time": "2023-12-17T14:37:25.545807Z"
    }
   },
   "id": "initial_id"
  },
  {
   "cell_type": "code",
   "execution_count": null,
   "outputs": [],
   "source": [],
   "metadata": {
    "collapsed": false
   },
   "id": "a457621735c101c9"
  }
 ],
 "metadata": {
  "kernelspec": {
   "display_name": "Python 3",
   "language": "python",
   "name": "python3"
  },
  "language_info": {
   "codemirror_mode": {
    "name": "ipython",
    "version": 2
   },
   "file_extension": ".py",
   "mimetype": "text/x-python",
   "name": "python",
   "nbconvert_exporter": "python",
   "pygments_lexer": "ipython2",
   "version": "2.7.6"
  }
 },
 "nbformat": 4,
 "nbformat_minor": 5
}
